{
 "cells": [
  {
   "cell_type": "code",
   "execution_count": 1,
   "metadata": {},
   "outputs": [],
   "source": [
    "import warnings\n",
    "warnings.simplefilter(action='ignore', category=FutureWarning)\n",
    "import numpy as np\n",
    "import pandas as pd\n",
    "import json\n",
    "import geopandas as gpd\n",
    "\n",
    "from shapely.geometry import Point, MultiPoint\n",
    "from shapely.geometry.polygon import Polygon\n",
    "from tqdm import tqdm, tqdm_notebook"
   ]
  },
  {
   "cell_type": "code",
   "execution_count": 2,
   "metadata": {},
   "outputs": [
    {
     "name": "stderr",
     "output_type": "stream",
     "text": [
      "/opt/conda/lib/python3.7/site-packages/ipykernel_launcher.py:1: TqdmDeprecationWarning: This function will be removed in tqdm==5.0.0\n",
      "Please use `tqdm.notebook.tqdm` instead of `tqdm.tqdm_notebook`\n",
      "  \"\"\"Entry point for launching an IPython kernel.\n"
     ]
    },
    {
     "data": {
      "application/vnd.jupyter.widget-view+json": {
       "model_id": "45cf0e832fa047238a843f237ef39ac2",
       "version_major": 2,
       "version_minor": 0
      },
      "text/plain": [
       "HBox(children=(FloatProgress(value=1.0, bar_style='info', max=1.0), HTML(value='')))"
      ]
     },
     "metadata": {},
     "output_type": "display_data"
    }
   ],
   "source": [
    "tqdm_notebook().pandas()"
   ]
  },
  {
   "cell_type": "code",
   "execution_count": 3,
   "metadata": {},
   "outputs": [
    {
     "name": "stdout",
     "output_type": "stream",
     "text": [
      "True\n"
     ]
    }
   ],
   "source": [
    "point = Point(0.5, 0.5)\n",
    "polygon = Polygon([(0, 0), (0, 1), (1, 1), (1, 0)])\n",
    "print(polygon.contains(point))"
   ]
  },
  {
   "cell_type": "code",
   "execution_count": 4,
   "metadata": {},
   "outputs": [
    {
     "name": "stdout",
     "output_type": "stream",
     "text": [
      "\n"
     ]
    },
    {
     "data": {
      "text/plain": [
       "geopandas.geodataframe.GeoDataFrame"
      ]
     },
     "execution_count": 4,
     "metadata": {},
     "output_type": "execute_result"
    }
   ],
   "source": [
    "bounds=gpd.read_file('./data/de_kreise_sehrhoch.geojson')\n",
    "type(bounds)"
   ]
  },
  {
   "cell_type": "code",
   "execution_count": 6,
   "metadata": {},
   "outputs": [
    {
     "data": {
      "text/html": [
       "<div>\n",
       "<style scoped>\n",
       "    .dataframe tbody tr th:only-of-type {\n",
       "        vertical-align: middle;\n",
       "    }\n",
       "\n",
       "    .dataframe tbody tr th {\n",
       "        vertical-align: top;\n",
       "    }\n",
       "\n",
       "    .dataframe thead th {\n",
       "        text-align: right;\n",
       "    }\n",
       "</style>\n",
       "<table border=\"1\" class=\"dataframe\">\n",
       "  <thead>\n",
       "    <tr style=\"text-align: right;\">\n",
       "      <th></th>\n",
       "      <th>ID_0</th>\n",
       "      <th>ISO</th>\n",
       "      <th>NAME_0</th>\n",
       "      <th>ID_1</th>\n",
       "      <th>NAME_1</th>\n",
       "      <th>ID_2</th>\n",
       "      <th>NAME_2</th>\n",
       "      <th>ID_3</th>\n",
       "      <th>NAME_3</th>\n",
       "      <th>NL_NAME_3</th>\n",
       "      <th>VARNAME_3</th>\n",
       "      <th>TYPE_3</th>\n",
       "      <th>ENGTYPE_3</th>\n",
       "      <th>geometry</th>\n",
       "    </tr>\n",
       "  </thead>\n",
       "  <tbody>\n",
       "    <tr>\n",
       "      <th>0</th>\n",
       "      <td>86</td>\n",
       "      <td>DEU</td>\n",
       "      <td>Germany</td>\n",
       "      <td>9</td>\n",
       "      <td>Niedersachsen</td>\n",
       "      <td>23</td>\n",
       "      <td>Weser-Ems</td>\n",
       "      <td>244</td>\n",
       "      <td>Oldenburg</td>\n",
       "      <td>None</td>\n",
       "      <td>None</td>\n",
       "      <td>Landkreise</td>\n",
       "      <td>Rural district</td>\n",
       "      <td>POLYGON ((8.65348 53.11003, 8.66599 53.10659, ...</td>\n",
       "    </tr>\n",
       "    <tr>\n",
       "      <th>1</th>\n",
       "      <td>86</td>\n",
       "      <td>DEU</td>\n",
       "      <td>Germany</td>\n",
       "      <td>9</td>\n",
       "      <td>Niedersachsen</td>\n",
       "      <td>23</td>\n",
       "      <td>Weser-Ems</td>\n",
       "      <td>245</td>\n",
       "      <td>Osnabrück Städte</td>\n",
       "      <td>None</td>\n",
       "      <td>None</td>\n",
       "      <td>Kreisfreie Städte</td>\n",
       "      <td>Urban district</td>\n",
       "      <td>POLYGON ((7.96379 52.32545, 7.96960 52.32937, ...</td>\n",
       "    </tr>\n",
       "    <tr>\n",
       "      <th>2</th>\n",
       "      <td>86</td>\n",
       "      <td>DEU</td>\n",
       "      <td>Germany</td>\n",
       "      <td>9</td>\n",
       "      <td>Niedersachsen</td>\n",
       "      <td>23</td>\n",
       "      <td>Weser-Ems</td>\n",
       "      <td>246</td>\n",
       "      <td>Osnabrück</td>\n",
       "      <td>None</td>\n",
       "      <td>None</td>\n",
       "      <td>Landkreise</td>\n",
       "      <td>Rural district</td>\n",
       "      <td>POLYGON ((8.02655 52.68435, 8.03910 52.67371, ...</td>\n",
       "    </tr>\n",
       "    <tr>\n",
       "      <th>3</th>\n",
       "      <td>86</td>\n",
       "      <td>DEU</td>\n",
       "      <td>Germany</td>\n",
       "      <td>9</td>\n",
       "      <td>Niedersachsen</td>\n",
       "      <td>23</td>\n",
       "      <td>Weser-Ems</td>\n",
       "      <td>247</td>\n",
       "      <td>Vechta</td>\n",
       "      <td>None</td>\n",
       "      <td>None</td>\n",
       "      <td>Landkreise</td>\n",
       "      <td>Rural district</td>\n",
       "      <td>POLYGON ((8.46214 52.80015, 8.45627 52.79629, ...</td>\n",
       "    </tr>\n",
       "    <tr>\n",
       "      <th>4</th>\n",
       "      <td>86</td>\n",
       "      <td>DEU</td>\n",
       "      <td>Germany</td>\n",
       "      <td>9</td>\n",
       "      <td>Niedersachsen</td>\n",
       "      <td>23</td>\n",
       "      <td>Weser-Ems</td>\n",
       "      <td>248</td>\n",
       "      <td>Wesermarsch</td>\n",
       "      <td>None</td>\n",
       "      <td>None</td>\n",
       "      <td>Landkreise</td>\n",
       "      <td>Rural district</td>\n",
       "      <td>MULTIPOLYGON (((8.30750 53.61819, 8.30750 53.6...</td>\n",
       "    </tr>\n",
       "  </tbody>\n",
       "</table>\n",
       "</div>"
      ],
      "text/plain": [
       "   ID_0  ISO   NAME_0  ID_1         NAME_1  ID_2     NAME_2  ID_3  \\\n",
       "0    86  DEU  Germany     9  Niedersachsen    23  Weser-Ems   244   \n",
       "1    86  DEU  Germany     9  Niedersachsen    23  Weser-Ems   245   \n",
       "2    86  DEU  Germany     9  Niedersachsen    23  Weser-Ems   246   \n",
       "3    86  DEU  Germany     9  Niedersachsen    23  Weser-Ems   247   \n",
       "4    86  DEU  Germany     9  Niedersachsen    23  Weser-Ems   248   \n",
       "\n",
       "             NAME_3 NL_NAME_3 VARNAME_3             TYPE_3       ENGTYPE_3  \\\n",
       "0         Oldenburg      None      None         Landkreise  Rural district   \n",
       "1  Osnabrück Städte      None      None  Kreisfreie Städte  Urban district   \n",
       "2         Osnabrück      None      None         Landkreise  Rural district   \n",
       "3            Vechta      None      None         Landkreise  Rural district   \n",
       "4       Wesermarsch      None      None         Landkreise  Rural district   \n",
       "\n",
       "                                            geometry  \n",
       "0  POLYGON ((8.65348 53.11003, 8.66599 53.10659, ...  \n",
       "1  POLYGON ((7.96379 52.32545, 7.96960 52.32937, ...  \n",
       "2  POLYGON ((8.02655 52.68435, 8.03910 52.67371, ...  \n",
       "3  POLYGON ((8.46214 52.80015, 8.45627 52.79629, ...  \n",
       "4  MULTIPOLYGON (((8.30750 53.61819, 8.30750 53.6...  "
      ]
     },
     "execution_count": 6,
     "metadata": {},
     "output_type": "execute_result"
    }
   ],
   "source": [
    "bounds.head()"
   ]
  },
  {
   "cell_type": "code",
   "execution_count": 5,
   "metadata": {},
   "outputs": [
    {
     "data": {
      "text/plain": [
       "geopandas.geodataframe.GeoDataFrame"
      ]
     },
     "execution_count": 5,
     "metadata": {},
     "output_type": "execute_result"
    }
   ],
   "source": [
    "rn=gpd.read_file('./data/radon222_boden.json')\n",
    "type(rn)"
   ]
  },
  {
   "cell_type": "code",
   "execution_count": 7,
   "metadata": {},
   "outputs": [
    {
     "data": {
      "text/html": [
       "<div>\n",
       "<style scoped>\n",
       "    .dataframe tbody tr th:only-of-type {\n",
       "        vertical-align: middle;\n",
       "    }\n",
       "\n",
       "    .dataframe tbody tr th {\n",
       "        vertical-align: top;\n",
       "    }\n",
       "\n",
       "    .dataframe thead th {\n",
       "        text-align: right;\n",
       "    }\n",
       "</style>\n",
       "<table border=\"1\" class=\"dataframe\">\n",
       "  <thead>\n",
       "    <tr style=\"text-align: right;\">\n",
       "      <th></th>\n",
       "      <th>id</th>\n",
       "      <th>descript</th>\n",
       "      <th>geo_unit</th>\n",
       "      <th>rn_max</th>\n",
       "      <th>geometry</th>\n",
       "    </tr>\n",
       "  </thead>\n",
       "  <tbody>\n",
       "    <tr>\n",
       "      <th>0</th>\n",
       "      <td>radon222_boden.1</td>\n",
       "      <td>AV192</td>\n",
       "      <td>Tertiär</td>\n",
       "      <td>29.1</td>\n",
       "      <td>MULTIPOLYGON (((7.81099 49.93957, 7.81099 49.9...</td>\n",
       "    </tr>\n",
       "    <tr>\n",
       "      <th>1</th>\n",
       "      <td>radon222_boden.2</td>\n",
       "      <td>AV194</td>\n",
       "      <td>Rotliegend</td>\n",
       "      <td>36.4</td>\n",
       "      <td>MULTIPOLYGON (((7.81099 49.88560, 7.81099 49.9...</td>\n",
       "    </tr>\n",
       "    <tr>\n",
       "      <th>2</th>\n",
       "      <td>radon222_boden.3</td>\n",
       "      <td>AV218</td>\n",
       "      <td>Buntsandstein</td>\n",
       "      <td>22.0</td>\n",
       "      <td>MULTIPOLYGON (((7.81099 49.23809, 7.81099 49.2...</td>\n",
       "    </tr>\n",
       "    <tr>\n",
       "      <th>3</th>\n",
       "      <td>radon222_boden.4</td>\n",
       "      <td>AV245</td>\n",
       "      <td>Quartär</td>\n",
       "      <td>76.1</td>\n",
       "      <td>MULTIPOLYGON (((7.81099 48.50964, 7.81099 48.5...</td>\n",
       "    </tr>\n",
       "    <tr>\n",
       "      <th>4</th>\n",
       "      <td>radon222_boden.5</td>\n",
       "      <td>AV246</td>\n",
       "      <td>Quartär</td>\n",
       "      <td>77.3</td>\n",
       "      <td>MULTIPOLYGON (((7.81099 48.48266, 7.81099 48.5...</td>\n",
       "    </tr>\n",
       "  </tbody>\n",
       "</table>\n",
       "</div>"
      ],
      "text/plain": [
       "                 id descript       geo_unit  rn_max  \\\n",
       "0  radon222_boden.1    AV192        Tertiär    29.1   \n",
       "1  radon222_boden.2    AV194     Rotliegend    36.4   \n",
       "2  radon222_boden.3    AV218  Buntsandstein    22.0   \n",
       "3  radon222_boden.4    AV245        Quartär    76.1   \n",
       "4  radon222_boden.5    AV246        Quartär    77.3   \n",
       "\n",
       "                                            geometry  \n",
       "0  MULTIPOLYGON (((7.81099 49.93957, 7.81099 49.9...  \n",
       "1  MULTIPOLYGON (((7.81099 49.88560, 7.81099 49.9...  \n",
       "2  MULTIPOLYGON (((7.81099 49.23809, 7.81099 49.2...  \n",
       "3  MULTIPOLYGON (((7.81099 48.50964, 7.81099 48.5...  \n",
       "4  MULTIPOLYGON (((7.81099 48.48266, 7.81099 48.5...  "
      ]
     },
     "execution_count": 7,
     "metadata": {},
     "output_type": "execute_result"
    }
   ],
   "source": [
    "rn.head()"
   ]
  },
  {
   "cell_type": "code",
   "execution_count": 8,
   "metadata": {},
   "outputs": [
    {
     "data": {
      "text/html": [
       "<div>\n",
       "<style scoped>\n",
       "    .dataframe tbody tr th:only-of-type {\n",
       "        vertical-align: middle;\n",
       "    }\n",
       "\n",
       "    .dataframe tbody tr th {\n",
       "        vertical-align: top;\n",
       "    }\n",
       "\n",
       "    .dataframe thead th {\n",
       "        text-align: right;\n",
       "    }\n",
       "</style>\n",
       "<table border=\"1\" class=\"dataframe\">\n",
       "  <thead>\n",
       "    <tr style=\"text-align: right;\">\n",
       "      <th></th>\n",
       "      <th>ID_0</th>\n",
       "      <th>ISO</th>\n",
       "      <th>NAME_0</th>\n",
       "      <th>ID_1</th>\n",
       "      <th>NAME_1</th>\n",
       "      <th>ID_2</th>\n",
       "      <th>NAME_2</th>\n",
       "      <th>ID_3</th>\n",
       "      <th>NAME_3</th>\n",
       "      <th>NL_NAME_3</th>\n",
       "      <th>VARNAME_3</th>\n",
       "      <th>TYPE_3</th>\n",
       "      <th>ENGTYPE_3</th>\n",
       "      <th>geometry</th>\n",
       "    </tr>\n",
       "  </thead>\n",
       "  <tbody>\n",
       "    <tr>\n",
       "      <th>0</th>\n",
       "      <td>86</td>\n",
       "      <td>DEU</td>\n",
       "      <td>Germany</td>\n",
       "      <td>9</td>\n",
       "      <td>Niedersachsen</td>\n",
       "      <td>23</td>\n",
       "      <td>Weser-Ems</td>\n",
       "      <td>244</td>\n",
       "      <td>Oldenburg</td>\n",
       "      <td>None</td>\n",
       "      <td>None</td>\n",
       "      <td>Landkreise</td>\n",
       "      <td>Rural district</td>\n",
       "      <td>POLYGON ((8.65347957611084 53.11003112792969, ...</td>\n",
       "    </tr>\n",
       "  </tbody>\n",
       "</table>\n",
       "</div>"
      ],
      "text/plain": [
       "  ID_0  ISO   NAME_0 ID_1         NAME_1 ID_2     NAME_2 ID_3     NAME_3  \\\n",
       "0   86  DEU  Germany    9  Niedersachsen   23  Weser-Ems  244  Oldenburg   \n",
       "\n",
       "  NL_NAME_3 VARNAME_3      TYPE_3       ENGTYPE_3  \\\n",
       "0      None      None  Landkreise  Rural district   \n",
       "\n",
       "                                            geometry  \n",
       "0  POLYGON ((8.65347957611084 53.11003112792969, ...  "
      ]
     },
     "execution_count": 8,
     "metadata": {},
     "output_type": "execute_result"
    }
   ],
   "source": [
    "test=pd.DataFrame(bounds.iloc[0]).T\n",
    "test"
   ]
  },
  {
   "cell_type": "code",
   "execution_count": 9,
   "metadata": {},
   "outputs": [
    {
     "data": {
      "text/plain": [
       "shapely.geometry.multipolygon.MultiPolygon"
      ]
     },
     "execution_count": 9,
     "metadata": {},
     "output_type": "execute_result"
    }
   ],
   "source": [
    "type(rn['geometry'][0])"
   ]
  },
  {
   "cell_type": "code",
   "execution_count": 10,
   "metadata": {},
   "outputs": [
    {
     "data": {
      "text/plain": [
       "geopandas.geoseries.GeoSeries"
      ]
     },
     "execution_count": 10,
     "metadata": {},
     "output_type": "execute_result"
    }
   ],
   "source": [
    "type(rn['geometry'])"
   ]
  },
  {
   "cell_type": "code",
   "execution_count": 11,
   "metadata": {},
   "outputs": [
    {
     "data": {
      "text/plain": [
       "shapely.geometry.polygon.Polygon"
      ]
     },
     "execution_count": 11,
     "metadata": {},
     "output_type": "execute_result"
    }
   ],
   "source": [
    "type(bounds['geometry'][0])"
   ]
  },
  {
   "cell_type": "code",
   "execution_count": 12,
   "metadata": {},
   "outputs": [
    {
     "data": {
      "text/plain": [
       "geopandas.geoseries.GeoSeries"
      ]
     },
     "execution_count": 12,
     "metadata": {},
     "output_type": "execute_result"
    }
   ],
   "source": [
    "type(bounds['geometry'])"
   ]
  },
  {
   "cell_type": "code",
   "execution_count": 38,
   "metadata": {},
   "outputs": [
    {
     "data": {
      "image/svg+xml": [
       "<svg xmlns=\"http://www.w3.org/2000/svg\" xmlns:xlink=\"http://www.w3.org/1999/xlink\" width=\"100.0\" height=\"100.0\" viewBox=\"7.8092781984 49.9378483584 0.04635040319999906 0.0304123032000021\" preserveAspectRatio=\"xMinYMin meet\"><g transform=\"matrix(1,0,0,-1,0,99.90610902)\"><path fill-rule=\"evenodd\" fill=\"#66cc99\" stroke=\"#555555\" stroke-width=\"0.0009270080639999811\" opacity=\"0.6\" d=\"M 7.81099488,49.93956504 L 7.81099488,49.96654398 L 7.85391192,49.96654398 L 7.85391192,49.93956504 L 7.81099488,49.93956504 z\" /></g></svg>"
      ],
      "text/plain": [
       "<shapely.geometry.polygon.Polygon at 0x7fbad5ecb0d0>"
      ]
     },
     "execution_count": 38,
     "metadata": {},
     "output_type": "execute_result"
    }
   ],
   "source": [
    "rn['geometry'][0][0]"
   ]
  },
  {
   "cell_type": "code",
   "execution_count": 14,
   "metadata": {},
   "outputs": [
    {
     "data": {
      "text/plain": [
       "0.0"
      ]
     },
     "execution_count": 14,
     "metadata": {},
     "output_type": "execute_result"
    }
   ],
   "source": [
    "bounds['geometry'][0].intersection(rn['geometry'][0]).area"
   ]
  },
  {
   "cell_type": "code",
   "execution_count": 67,
   "metadata": {},
   "outputs": [],
   "source": [
    "def check_in(check_poly,bound_poly_df):\n",
    "    bound_poly_rt=[]#to which boundary(ies) the check_poly is belonging to\n",
    "    for i in range(len(bound_poly_df)):\n",
    "        try:\n",
    "            check=check_poly[0].intersection(bound_poly_df['geometry'][i]).area\n",
    "            if check>0:\n",
    "                bound_poly_rt.append([{'NAME_1':bound_poly_df['NAME_1'][i],\n",
    "                                     'NAME_2':bound_poly_df['NAME_2'][i],\n",
    "                                     'NAME_3':bound_poly_df['NAME_3'][i]}])\n",
    "        except:\n",
    "            bound_poly_rt.append('Problem!')\n",
    "\n",
    "    return bound_poly_rt         "
   ]
  },
  {
   "cell_type": "code",
   "execution_count": 68,
   "metadata": {},
   "outputs": [
    {
     "data": {
      "text/plain": [
       "[[{'NAME_1': 'Niedersachsen', 'NAME_2': 'Weser-Ems', 'NAME_3': 'Osnabrück'}],\n",
       " [{'NAME_1': 'Nordrhein-Westfalen',\n",
       "   'NAME_2': 'Munster',\n",
       "   'NAME_3': 'Steinfurt'}],\n",
       " [{'NAME_1': 'Nordrhein-Westfalen',\n",
       "   'NAME_2': 'Munster',\n",
       "   'NAME_3': 'Warendorf'}]]"
      ]
     },
     "execution_count": 68,
     "metadata": {},
     "output_type": "execute_result"
    }
   ],
   "source": [
    "aaa=check_in(rn['geometry'][12],bounds)\n",
    "aaa"
   ]
  },
  {
   "cell_type": "code",
   "execution_count": 69,
   "metadata": {},
   "outputs": [
    {
     "data": {
      "text/plain": [
       "[['0',\n",
       "  [[{'NAME_1': 'Rheinland-Pfalz',\n",
       "     'NAME_2': 'Koblenz',\n",
       "     'NAME_3': 'Bad Kreuznach'}],\n",
       "   [{'NAME_1': 'Rheinland-Pfalz',\n",
       "     'NAME_2': 'Rheinhessen-Pfalz',\n",
       "     'NAME_3': 'Mainz-Bingen'}]]],\n",
       " ['1',\n",
       "  [[{'NAME_1': 'Rheinland-Pfalz',\n",
       "     'NAME_2': 'Koblenz',\n",
       "     'NAME_3': 'Bad Kreuznach'}]]],\n",
       " ['2',\n",
       "  [[{'NAME_1': 'Rheinland-Pfalz',\n",
       "     'NAME_2': 'Rheinhessen-Pfalz',\n",
       "     'NAME_3': 'Südliche Weinstraße'}],\n",
       "   [{'NAME_1': 'Rheinland-Pfalz',\n",
       "     'NAME_2': 'Rheinhessen-Pfalz',\n",
       "     'NAME_3': 'Südwestpfalz'}]]],\n",
       " ['3',\n",
       "  [[{'NAME_1': 'Baden-Württemberg',\n",
       "     'NAME_2': 'Freiburg',\n",
       "     'NAME_3': 'Ortenaukreis'}]]],\n",
       " ['4',\n",
       "  [[{'NAME_1': 'Baden-Württemberg',\n",
       "     'NAME_2': 'Freiburg',\n",
       "     'NAME_3': 'Ortenaukreis'}]]],\n",
       " ['5',\n",
       "  [[{'NAME_1': 'Baden-Württemberg',\n",
       "     'NAME_2': 'Freiburg',\n",
       "     'NAME_3': 'Ortenaukreis'}]]],\n",
       " ['6',\n",
       "  [[{'NAME_1': 'Baden-Württemberg',\n",
       "     'NAME_2': 'Freiburg',\n",
       "     'NAME_3': 'Breisgau-Hochschwarzwald'}],\n",
       "   [{'NAME_1': 'Baden-Württemberg',\n",
       "     'NAME_2': 'Freiburg',\n",
       "     'NAME_3': 'Freiburg'}]]],\n",
       " ['7',\n",
       "  [[{'NAME_1': 'Baden-Württemberg',\n",
       "     'NAME_2': 'Freiburg',\n",
       "     'NAME_3': 'Breisgau-Hochschwarzwald'}],\n",
       "   [{'NAME_1': 'Baden-Württemberg',\n",
       "     'NAME_2': 'Freiburg',\n",
       "     'NAME_3': 'Freiburg'}]]],\n",
       " ['8',\n",
       "  [[{'NAME_1': 'Baden-Württemberg',\n",
       "     'NAME_2': 'Freiburg',\n",
       "     'NAME_3': 'Lörrach'}]]],\n",
       " ['9',\n",
       "  [[{'NAME_1': 'Niedersachsen', 'NAME_2': 'Weser-Ems', 'NAME_3': 'Wittmund'}],\n",
       "   [{'NAME_1': 'Niedersachsen',\n",
       "     'NAME_2': 'Weser-Ems',\n",
       "     'NAME_3': 'Friesland'}]]]]"
      ]
     },
     "execution_count": 69,
     "metadata": {},
     "output_type": "execute_result"
    }
   ],
   "source": [
    "add=[]\n",
    "for i in range(10):\n",
    "    #print('i = %s' % i)\n",
    "    add.append([str(i), check_in(rn['geometry'][i],bounds)])\n",
    "#rn['belong_to']=rn.progress_apply(lambda x: check_in(x,bounds) if x.name=='geometry' else x)\n",
    "add"
   ]
  },
  {
   "cell_type": "code",
   "execution_count": 70,
   "metadata": {},
   "outputs": [
    {
     "data": {
      "text/plain": [
       "['0',\n",
       " [[{'NAME_1': 'Rheinland-Pfalz',\n",
       "    'NAME_2': 'Koblenz',\n",
       "    'NAME_3': 'Bad Kreuznach'}],\n",
       "  [{'NAME_1': 'Rheinland-Pfalz',\n",
       "    'NAME_2': 'Rheinhessen-Pfalz',\n",
       "    'NAME_3': 'Mainz-Bingen'}]]]"
      ]
     },
     "execution_count": 70,
     "metadata": {},
     "output_type": "execute_result"
    }
   ],
   "source": [
    "add[0]"
   ]
  },
  {
   "cell_type": "code",
   "execution_count": 29,
   "metadata": {},
   "outputs": [
    {
     "data": {
      "text/html": [
       "<div>\n",
       "<style scoped>\n",
       "    .dataframe tbody tr th:only-of-type {\n",
       "        vertical-align: middle;\n",
       "    }\n",
       "\n",
       "    .dataframe tbody tr th {\n",
       "        vertical-align: top;\n",
       "    }\n",
       "\n",
       "    .dataframe thead th {\n",
       "        text-align: right;\n",
       "    }\n",
       "</style>\n",
       "<table border=\"1\" class=\"dataframe\">\n",
       "  <thead>\n",
       "    <tr style=\"text-align: right;\">\n",
       "      <th></th>\n",
       "      <th>id</th>\n",
       "      <th>descript</th>\n",
       "      <th>geo_unit</th>\n",
       "      <th>rn_max</th>\n",
       "      <th>geometry</th>\n",
       "      <th>index_right</th>\n",
       "      <th>ID_0</th>\n",
       "      <th>ISO</th>\n",
       "      <th>NAME_0</th>\n",
       "      <th>ID_1</th>\n",
       "      <th>NAME_1</th>\n",
       "      <th>ID_2</th>\n",
       "      <th>NAME_2</th>\n",
       "      <th>ID_3</th>\n",
       "      <th>NAME_3</th>\n",
       "      <th>NL_NAME_3</th>\n",
       "      <th>VARNAME_3</th>\n",
       "      <th>TYPE_3</th>\n",
       "      <th>ENGTYPE_3</th>\n",
       "    </tr>\n",
       "  </thead>\n",
       "  <tbody>\n",
       "    <tr>\n",
       "      <th>0</th>\n",
       "      <td>radon222_boden.1</td>\n",
       "      <td>AV192</td>\n",
       "      <td>Tertiär</td>\n",
       "      <td>29.1</td>\n",
       "      <td>MULTIPOLYGON (((7.81099 49.93957, 7.81099 49.9...</td>\n",
       "      <td>306</td>\n",
       "      <td>86</td>\n",
       "      <td>DEU</td>\n",
       "      <td>Germany</td>\n",
       "      <td>11</td>\n",
       "      <td>Rheinland-Pfalz</td>\n",
       "      <td>29</td>\n",
       "      <td>Koblenz</td>\n",
       "      <td>307</td>\n",
       "      <td>Bad Kreuznach</td>\n",
       "      <td>None</td>\n",
       "      <td>None</td>\n",
       "      <td>Landkreise</td>\n",
       "      <td>Rural district</td>\n",
       "    </tr>\n",
       "    <tr>\n",
       "      <th>1</th>\n",
       "      <td>radon222_boden.2</td>\n",
       "      <td>AV194</td>\n",
       "      <td>Rotliegend</td>\n",
       "      <td>36.4</td>\n",
       "      <td>MULTIPOLYGON (((7.81099 49.88560, 7.81099 49.9...</td>\n",
       "      <td>306</td>\n",
       "      <td>86</td>\n",
       "      <td>DEU</td>\n",
       "      <td>Germany</td>\n",
       "      <td>11</td>\n",
       "      <td>Rheinland-Pfalz</td>\n",
       "      <td>29</td>\n",
       "      <td>Koblenz</td>\n",
       "      <td>307</td>\n",
       "      <td>Bad Kreuznach</td>\n",
       "      <td>None</td>\n",
       "      <td>None</td>\n",
       "      <td>Landkreise</td>\n",
       "      <td>Rural district</td>\n",
       "    </tr>\n",
       "    <tr>\n",
       "      <th>0</th>\n",
       "      <td>radon222_boden.1</td>\n",
       "      <td>AV192</td>\n",
       "      <td>Tertiär</td>\n",
       "      <td>29.1</td>\n",
       "      <td>MULTIPOLYGON (((7.81099 49.93957, 7.81099 49.9...</td>\n",
       "      <td>325</td>\n",
       "      <td>86</td>\n",
       "      <td>DEU</td>\n",
       "      <td>Germany</td>\n",
       "      <td>11</td>\n",
       "      <td>Rheinland-Pfalz</td>\n",
       "      <td>30</td>\n",
       "      <td>Rheinhessen-Pfalz</td>\n",
       "      <td>326</td>\n",
       "      <td>Mainz-Bingen</td>\n",
       "      <td>None</td>\n",
       "      <td>None</td>\n",
       "      <td>Landkreise</td>\n",
       "      <td>Rural district</td>\n",
       "    </tr>\n",
       "    <tr>\n",
       "      <th>2</th>\n",
       "      <td>radon222_boden.3</td>\n",
       "      <td>AV218</td>\n",
       "      <td>Buntsandstein</td>\n",
       "      <td>22.0</td>\n",
       "      <td>MULTIPOLYGON (((7.81099 49.23809, 7.81099 49.2...</td>\n",
       "      <td>330</td>\n",
       "      <td>86</td>\n",
       "      <td>DEU</td>\n",
       "      <td>Germany</td>\n",
       "      <td>11</td>\n",
       "      <td>Rheinland-Pfalz</td>\n",
       "      <td>30</td>\n",
       "      <td>Rheinhessen-Pfalz</td>\n",
       "      <td>331</td>\n",
       "      <td>Südliche Weinstraße</td>\n",
       "      <td>None</td>\n",
       "      <td>None</td>\n",
       "      <td>Landkreise</td>\n",
       "      <td>Rural district</td>\n",
       "    </tr>\n",
       "    <tr>\n",
       "      <th>2</th>\n",
       "      <td>radon222_boden.3</td>\n",
       "      <td>AV218</td>\n",
       "      <td>Buntsandstein</td>\n",
       "      <td>22.0</td>\n",
       "      <td>MULTIPOLYGON (((7.81099 49.23809, 7.81099 49.2...</td>\n",
       "      <td>331</td>\n",
       "      <td>86</td>\n",
       "      <td>DEU</td>\n",
       "      <td>Germany</td>\n",
       "      <td>11</td>\n",
       "      <td>Rheinland-Pfalz</td>\n",
       "      <td>30</td>\n",
       "      <td>Rheinhessen-Pfalz</td>\n",
       "      <td>332</td>\n",
       "      <td>Südwestpfalz</td>\n",
       "      <td>None</td>\n",
       "      <td>None</td>\n",
       "      <td>Landkreise</td>\n",
       "      <td>Rural district</td>\n",
       "    </tr>\n",
       "  </tbody>\n",
       "</table>\n",
       "</div>"
      ],
      "text/plain": [
       "                 id descript       geo_unit  rn_max  \\\n",
       "0  radon222_boden.1    AV192        Tertiär    29.1   \n",
       "1  radon222_boden.2    AV194     Rotliegend    36.4   \n",
       "0  radon222_boden.1    AV192        Tertiär    29.1   \n",
       "2  radon222_boden.3    AV218  Buntsandstein    22.0   \n",
       "2  radon222_boden.3    AV218  Buntsandstein    22.0   \n",
       "\n",
       "                                            geometry  index_right  ID_0  ISO  \\\n",
       "0  MULTIPOLYGON (((7.81099 49.93957, 7.81099 49.9...          306    86  DEU   \n",
       "1  MULTIPOLYGON (((7.81099 49.88560, 7.81099 49.9...          306    86  DEU   \n",
       "0  MULTIPOLYGON (((7.81099 49.93957, 7.81099 49.9...          325    86  DEU   \n",
       "2  MULTIPOLYGON (((7.81099 49.23809, 7.81099 49.2...          330    86  DEU   \n",
       "2  MULTIPOLYGON (((7.81099 49.23809, 7.81099 49.2...          331    86  DEU   \n",
       "\n",
       "    NAME_0  ID_1           NAME_1  ID_2             NAME_2  ID_3  \\\n",
       "0  Germany    11  Rheinland-Pfalz    29            Koblenz   307   \n",
       "1  Germany    11  Rheinland-Pfalz    29            Koblenz   307   \n",
       "0  Germany    11  Rheinland-Pfalz    30  Rheinhessen-Pfalz   326   \n",
       "2  Germany    11  Rheinland-Pfalz    30  Rheinhessen-Pfalz   331   \n",
       "2  Germany    11  Rheinland-Pfalz    30  Rheinhessen-Pfalz   332   \n",
       "\n",
       "                NAME_3 NL_NAME_3 VARNAME_3      TYPE_3       ENGTYPE_3  \n",
       "0        Bad Kreuznach      None      None  Landkreise  Rural district  \n",
       "1        Bad Kreuznach      None      None  Landkreise  Rural district  \n",
       "0         Mainz-Bingen      None      None  Landkreise  Rural district  \n",
       "2  Südliche Weinstraße      None      None  Landkreise  Rural district  \n",
       "2         Südwestpfalz      None      None  Landkreise  Rural district  "
      ]
     },
     "execution_count": 29,
     "metadata": {},
     "output_type": "execute_result"
    }
   ],
   "source": [
    "rn_with_bounds = gpd.sjoin(rn[0:10], bounds, how=\"inner\", op='intersects')\n",
    "rn_with_bounds.head()"
   ]
  },
  {
   "cell_type": "code",
   "execution_count": 83,
   "metadata": {},
   "outputs": [
    {
     "data": {
      "text/plain": [
       "Index(['Baden-Württemberg', 'Rheinland-Pfalz', 'Niedersachsen'], dtype='object')"
      ]
     },
     "execution_count": 83,
     "metadata": {},
     "output_type": "execute_result"
    }
   ],
   "source": [
    "rn_with_bounds['NAME_1'].value_counts().index"
   ]
  },
  {
   "cell_type": "code",
   "execution_count": 84,
   "metadata": {},
   "outputs": [
    {
     "data": {
      "text/html": [
       "<div>\n",
       "<style scoped>\n",
       "    .dataframe tbody tr th:only-of-type {\n",
       "        vertical-align: middle;\n",
       "    }\n",
       "\n",
       "    .dataframe tbody tr th {\n",
       "        vertical-align: top;\n",
       "    }\n",
       "\n",
       "    .dataframe thead th {\n",
       "        text-align: right;\n",
       "    }\n",
       "</style>\n",
       "<table border=\"1\" class=\"dataframe\">\n",
       "  <thead>\n",
       "    <tr style=\"text-align: right;\">\n",
       "      <th></th>\n",
       "      <th>id</th>\n",
       "      <th>descript</th>\n",
       "      <th>geo_unit</th>\n",
       "      <th>rn_max</th>\n",
       "      <th>geometry</th>\n",
       "      <th>index_right</th>\n",
       "      <th>ID_0</th>\n",
       "      <th>ISO</th>\n",
       "      <th>NAME_0</th>\n",
       "      <th>ID_1</th>\n",
       "      <th>NAME_1</th>\n",
       "      <th>ID_2</th>\n",
       "      <th>NAME_2</th>\n",
       "      <th>ID_3</th>\n",
       "      <th>NAME_3</th>\n",
       "      <th>NL_NAME_3</th>\n",
       "      <th>VARNAME_3</th>\n",
       "      <th>TYPE_3</th>\n",
       "      <th>ENGTYPE_3</th>\n",
       "    </tr>\n",
       "  </thead>\n",
       "  <tbody>\n",
       "    <tr>\n",
       "      <th>0</th>\n",
       "      <td>radon222_boden.1</td>\n",
       "      <td>AV192</td>\n",
       "      <td>Tertiär</td>\n",
       "      <td>29.1</td>\n",
       "      <td>MULTIPOLYGON (((7.81099 49.93957, 7.81099 49.9...</td>\n",
       "      <td>306</td>\n",
       "      <td>86</td>\n",
       "      <td>DEU</td>\n",
       "      <td>Germany</td>\n",
       "      <td>11</td>\n",
       "      <td>Rheinland-Pfalz</td>\n",
       "      <td>29</td>\n",
       "      <td>Koblenz</td>\n",
       "      <td>307</td>\n",
       "      <td>Bad Kreuznach</td>\n",
       "      <td>None</td>\n",
       "      <td>None</td>\n",
       "      <td>Landkreise</td>\n",
       "      <td>Rural district</td>\n",
       "    </tr>\n",
       "    <tr>\n",
       "      <th>1</th>\n",
       "      <td>radon222_boden.2</td>\n",
       "      <td>AV194</td>\n",
       "      <td>Rotliegend</td>\n",
       "      <td>36.4</td>\n",
       "      <td>MULTIPOLYGON (((7.81099 49.88560, 7.81099 49.9...</td>\n",
       "      <td>306</td>\n",
       "      <td>86</td>\n",
       "      <td>DEU</td>\n",
       "      <td>Germany</td>\n",
       "      <td>11</td>\n",
       "      <td>Rheinland-Pfalz</td>\n",
       "      <td>29</td>\n",
       "      <td>Koblenz</td>\n",
       "      <td>307</td>\n",
       "      <td>Bad Kreuznach</td>\n",
       "      <td>None</td>\n",
       "      <td>None</td>\n",
       "      <td>Landkreise</td>\n",
       "      <td>Rural district</td>\n",
       "    </tr>\n",
       "    <tr>\n",
       "      <th>0</th>\n",
       "      <td>radon222_boden.1</td>\n",
       "      <td>AV192</td>\n",
       "      <td>Tertiär</td>\n",
       "      <td>29.1</td>\n",
       "      <td>MULTIPOLYGON (((7.81099 49.93957, 7.81099 49.9...</td>\n",
       "      <td>325</td>\n",
       "      <td>86</td>\n",
       "      <td>DEU</td>\n",
       "      <td>Germany</td>\n",
       "      <td>11</td>\n",
       "      <td>Rheinland-Pfalz</td>\n",
       "      <td>30</td>\n",
       "      <td>Rheinhessen-Pfalz</td>\n",
       "      <td>326</td>\n",
       "      <td>Mainz-Bingen</td>\n",
       "      <td>None</td>\n",
       "      <td>None</td>\n",
       "      <td>Landkreise</td>\n",
       "      <td>Rural district</td>\n",
       "    </tr>\n",
       "    <tr>\n",
       "      <th>2</th>\n",
       "      <td>radon222_boden.3</td>\n",
       "      <td>AV218</td>\n",
       "      <td>Buntsandstein</td>\n",
       "      <td>22.0</td>\n",
       "      <td>MULTIPOLYGON (((7.81099 49.23809, 7.81099 49.2...</td>\n",
       "      <td>330</td>\n",
       "      <td>86</td>\n",
       "      <td>DEU</td>\n",
       "      <td>Germany</td>\n",
       "      <td>11</td>\n",
       "      <td>Rheinland-Pfalz</td>\n",
       "      <td>30</td>\n",
       "      <td>Rheinhessen-Pfalz</td>\n",
       "      <td>331</td>\n",
       "      <td>Südliche Weinstraße</td>\n",
       "      <td>None</td>\n",
       "      <td>None</td>\n",
       "      <td>Landkreise</td>\n",
       "      <td>Rural district</td>\n",
       "    </tr>\n",
       "    <tr>\n",
       "      <th>2</th>\n",
       "      <td>radon222_boden.3</td>\n",
       "      <td>AV218</td>\n",
       "      <td>Buntsandstein</td>\n",
       "      <td>22.0</td>\n",
       "      <td>MULTIPOLYGON (((7.81099 49.23809, 7.81099 49.2...</td>\n",
       "      <td>331</td>\n",
       "      <td>86</td>\n",
       "      <td>DEU</td>\n",
       "      <td>Germany</td>\n",
       "      <td>11</td>\n",
       "      <td>Rheinland-Pfalz</td>\n",
       "      <td>30</td>\n",
       "      <td>Rheinhessen-Pfalz</td>\n",
       "      <td>332</td>\n",
       "      <td>Südwestpfalz</td>\n",
       "      <td>None</td>\n",
       "      <td>None</td>\n",
       "      <td>Landkreise</td>\n",
       "      <td>Rural district</td>\n",
       "    </tr>\n",
       "  </tbody>\n",
       "</table>\n",
       "</div>"
      ],
      "text/plain": [
       "                 id descript       geo_unit  rn_max  \\\n",
       "0  radon222_boden.1    AV192        Tertiär    29.1   \n",
       "1  radon222_boden.2    AV194     Rotliegend    36.4   \n",
       "0  radon222_boden.1    AV192        Tertiär    29.1   \n",
       "2  radon222_boden.3    AV218  Buntsandstein    22.0   \n",
       "2  radon222_boden.3    AV218  Buntsandstein    22.0   \n",
       "\n",
       "                                            geometry  index_right  ID_0  ISO  \\\n",
       "0  MULTIPOLYGON (((7.81099 49.93957, 7.81099 49.9...          306    86  DEU   \n",
       "1  MULTIPOLYGON (((7.81099 49.88560, 7.81099 49.9...          306    86  DEU   \n",
       "0  MULTIPOLYGON (((7.81099 49.93957, 7.81099 49.9...          325    86  DEU   \n",
       "2  MULTIPOLYGON (((7.81099 49.23809, 7.81099 49.2...          330    86  DEU   \n",
       "2  MULTIPOLYGON (((7.81099 49.23809, 7.81099 49.2...          331    86  DEU   \n",
       "\n",
       "    NAME_0  ID_1           NAME_1  ID_2             NAME_2  ID_3  \\\n",
       "0  Germany    11  Rheinland-Pfalz    29            Koblenz   307   \n",
       "1  Germany    11  Rheinland-Pfalz    29            Koblenz   307   \n",
       "0  Germany    11  Rheinland-Pfalz    30  Rheinhessen-Pfalz   326   \n",
       "2  Germany    11  Rheinland-Pfalz    30  Rheinhessen-Pfalz   331   \n",
       "2  Germany    11  Rheinland-Pfalz    30  Rheinhessen-Pfalz   332   \n",
       "\n",
       "                NAME_3 NL_NAME_3 VARNAME_3      TYPE_3       ENGTYPE_3  \n",
       "0        Bad Kreuznach      None      None  Landkreise  Rural district  \n",
       "1        Bad Kreuznach      None      None  Landkreise  Rural district  \n",
       "0         Mainz-Bingen      None      None  Landkreise  Rural district  \n",
       "2  Südliche Weinstraße      None      None  Landkreise  Rural district  \n",
       "2         Südwestpfalz      None      None  Landkreise  Rural district  "
      ]
     },
     "execution_count": 84,
     "metadata": {},
     "output_type": "execute_result"
    }
   ],
   "source": [
    "rn_rp=rn_with_bounds.loc[rn_with_bounds['NAME_1']=='Rheinland-Pfalz']\n",
    "rn_rp.head()"
   ]
  },
  {
   "cell_type": "code",
   "execution_count": 71,
   "metadata": {},
   "outputs": [
    {
     "data": {
      "text/html": [
       "<div>\n",
       "<style scoped>\n",
       "    .dataframe tbody tr th:only-of-type {\n",
       "        vertical-align: middle;\n",
       "    }\n",
       "\n",
       "    .dataframe tbody tr th {\n",
       "        vertical-align: top;\n",
       "    }\n",
       "\n",
       "    .dataframe thead th {\n",
       "        text-align: right;\n",
       "    }\n",
       "</style>\n",
       "<table border=\"1\" class=\"dataframe\">\n",
       "  <thead>\n",
       "    <tr style=\"text-align: right;\">\n",
       "      <th></th>\n",
       "      <th>idx</th>\n",
       "      <th>lkr-data</th>\n",
       "    </tr>\n",
       "  </thead>\n",
       "  <tbody>\n",
       "    <tr>\n",
       "      <th>0</th>\n",
       "      <td>0</td>\n",
       "      <td>[[{'NAME_1': 'Rheinland-Pfalz', 'NAME_2': 'Kob...</td>\n",
       "    </tr>\n",
       "    <tr>\n",
       "      <th>1</th>\n",
       "      <td>1</td>\n",
       "      <td>[[{'NAME_1': 'Rheinland-Pfalz', 'NAME_2': 'Kob...</td>\n",
       "    </tr>\n",
       "    <tr>\n",
       "      <th>2</th>\n",
       "      <td>2</td>\n",
       "      <td>[[{'NAME_1': 'Rheinland-Pfalz', 'NAME_2': 'Rhe...</td>\n",
       "    </tr>\n",
       "    <tr>\n",
       "      <th>3</th>\n",
       "      <td>3</td>\n",
       "      <td>[[{'NAME_1': 'Baden-Württemberg', 'NAME_2': 'F...</td>\n",
       "    </tr>\n",
       "    <tr>\n",
       "      <th>4</th>\n",
       "      <td>4</td>\n",
       "      <td>[[{'NAME_1': 'Baden-Württemberg', 'NAME_2': 'F...</td>\n",
       "    </tr>\n",
       "  </tbody>\n",
       "</table>\n",
       "</div>"
      ],
      "text/plain": [
       "  idx                                           lkr-data\n",
       "0   0  [[{'NAME_1': 'Rheinland-Pfalz', 'NAME_2': 'Kob...\n",
       "1   1  [[{'NAME_1': 'Rheinland-Pfalz', 'NAME_2': 'Kob...\n",
       "2   2  [[{'NAME_1': 'Rheinland-Pfalz', 'NAME_2': 'Rhe...\n",
       "3   3  [[{'NAME_1': 'Baden-Württemberg', 'NAME_2': 'F...\n",
       "4   4  [[{'NAME_1': 'Baden-Württemberg', 'NAME_2': 'F..."
      ]
     },
     "execution_count": 71,
     "metadata": {},
     "output_type": "execute_result"
    }
   ],
   "source": [
    "in1=pd.DataFrame(add,columns=['idx','lkr-data'])\n",
    "in1.head()"
   ]
  },
  {
   "cell_type": "code",
   "execution_count": 81,
   "metadata": {},
   "outputs": [
    {
     "data": {
      "text/plain": [
       "[[{'NAME_1': 'Rheinland-Pfalz',\n",
       "   'NAME_2': 'Koblenz',\n",
       "   'NAME_3': 'Bad Kreuznach'}],\n",
       " [{'NAME_1': 'Rheinland-Pfalz',\n",
       "   'NAME_2': 'Rheinhessen-Pfalz',\n",
       "   'NAME_3': 'Mainz-Bingen'}]]"
      ]
     },
     "execution_count": 81,
     "metadata": {},
     "output_type": "execute_result"
    }
   ],
   "source": [
    "in1.iloc[[0]]['lkr-data'][0]"
   ]
  },
  {
   "cell_type": "code",
   "execution_count": 20,
   "metadata": {},
   "outputs": [
    {
     "data": {
      "application/vnd.jupyter.widget-view+json": {
       "model_id": "5ac2fca3c329466493e1522f0cf96865",
       "version_major": 2,
       "version_minor": 0
      },
      "text/plain": [
       "HBox(children=(FloatProgress(value=0.0, max=39684.0), HTML(value='')))"
      ]
     },
     "metadata": {},
     "output_type": "display_data"
    },
    {
     "ename": "ValueError",
     "evalue": "The truth value of a GeoDataFrame is ambiguous. Use a.empty, a.bool(), a.item(), a.any() or a.all().",
     "output_type": "error",
     "traceback": [
      "\u001b[0;31m---------------------------------------------------------------------------\u001b[0m",
      "\u001b[0;31mValueError\u001b[0m                                Traceback (most recent call last)",
      "\u001b[0;32m<ipython-input-20-500fdd36a97d>\u001b[0m in \u001b[0;36m<module>\u001b[0;34m\u001b[0m\n\u001b[0;32m----> 1\u001b[0;31m \u001b[0mrn\u001b[0m\u001b[0;34m[\u001b[0m\u001b[0;34m'belong_to'\u001b[0m\u001b[0;34m]\u001b[0m\u001b[0;34m=\u001b[0m\u001b[0mrn\u001b[0m\u001b[0;34m[\u001b[0m\u001b[0;34m'geometry'\u001b[0m\u001b[0;34m]\u001b[0m\u001b[0;34m.\u001b[0m\u001b[0mprogress_apply\u001b[0m\u001b[0;34m(\u001b[0m\u001b[0mcheck_in\u001b[0m\u001b[0;34m,\u001b[0m\u001b[0margs\u001b[0m\u001b[0;34m=\u001b[0m\u001b[0;34m(\u001b[0m\u001b[0mbounds\u001b[0m\u001b[0;34m)\u001b[0m\u001b[0;34m)\u001b[0m\u001b[0;34m\u001b[0m\u001b[0;34m\u001b[0m\u001b[0m\n\u001b[0m",
      "\u001b[0;32m/opt/conda/lib/python3.7/site-packages/tqdm/std.py\u001b[0m in \u001b[0;36minner\u001b[0;34m(df, func, *args, **kwargs)\u001b[0m\n\u001b[1;32m    744\u001b[0m                 \u001b[0;31m# Apply the provided function (in **kwargs)\u001b[0m\u001b[0;34m\u001b[0m\u001b[0;34m\u001b[0m\u001b[0;34m\u001b[0m\u001b[0m\n\u001b[1;32m    745\u001b[0m                 \u001b[0;31m# on the df using our wrapper (which provides bar updating)\u001b[0m\u001b[0;34m\u001b[0m\u001b[0;34m\u001b[0m\u001b[0;34m\u001b[0m\u001b[0m\n\u001b[0;32m--> 746\u001b[0;31m                 \u001b[0mresult\u001b[0m \u001b[0;34m=\u001b[0m \u001b[0mgetattr\u001b[0m\u001b[0;34m(\u001b[0m\u001b[0mdf\u001b[0m\u001b[0;34m,\u001b[0m \u001b[0mdf_function\u001b[0m\u001b[0;34m)\u001b[0m\u001b[0;34m(\u001b[0m\u001b[0mwrapper\u001b[0m\u001b[0;34m,\u001b[0m \u001b[0;34m**\u001b[0m\u001b[0mkwargs\u001b[0m\u001b[0;34m)\u001b[0m\u001b[0;34m\u001b[0m\u001b[0;34m\u001b[0m\u001b[0m\n\u001b[0m\u001b[1;32m    747\u001b[0m \u001b[0;34m\u001b[0m\u001b[0m\n\u001b[1;32m    748\u001b[0m                 \u001b[0;31m# Close bar and return pandas calculation result\u001b[0m\u001b[0;34m\u001b[0m\u001b[0;34m\u001b[0m\u001b[0;34m\u001b[0m\u001b[0m\n",
      "\u001b[0;32m/opt/conda/lib/python3.7/site-packages/pandas/core/series.py\u001b[0m in \u001b[0;36mapply\u001b[0;34m(self, func, convert_dtype, args, **kwds)\u001b[0m\n\u001b[1;32m   4026\u001b[0m \u001b[0;34m\u001b[0m\u001b[0m\n\u001b[1;32m   4027\u001b[0m         \u001b[0;31m# handle ufuncs and lambdas\u001b[0m\u001b[0;34m\u001b[0m\u001b[0;34m\u001b[0m\u001b[0;34m\u001b[0m\u001b[0m\n\u001b[0;32m-> 4028\u001b[0;31m         \u001b[0;32mif\u001b[0m \u001b[0mkwds\u001b[0m \u001b[0;32mor\u001b[0m \u001b[0margs\u001b[0m \u001b[0;32mand\u001b[0m \u001b[0;32mnot\u001b[0m \u001b[0misinstance\u001b[0m\u001b[0;34m(\u001b[0m\u001b[0mfunc\u001b[0m\u001b[0;34m,\u001b[0m \u001b[0mnp\u001b[0m\u001b[0;34m.\u001b[0m\u001b[0mufunc\u001b[0m\u001b[0;34m)\u001b[0m\u001b[0;34m:\u001b[0m\u001b[0;34m\u001b[0m\u001b[0;34m\u001b[0m\u001b[0m\n\u001b[0m\u001b[1;32m   4029\u001b[0m \u001b[0;34m\u001b[0m\u001b[0m\n\u001b[1;32m   4030\u001b[0m             \u001b[0;32mdef\u001b[0m \u001b[0mf\u001b[0m\u001b[0;34m(\u001b[0m\u001b[0mx\u001b[0m\u001b[0;34m)\u001b[0m\u001b[0;34m:\u001b[0m\u001b[0;34m\u001b[0m\u001b[0;34m\u001b[0m\u001b[0m\n",
      "\u001b[0;32m/opt/conda/lib/python3.7/site-packages/pandas/core/generic.py\u001b[0m in \u001b[0;36m__nonzero__\u001b[0;34m(self)\u001b[0m\n\u001b[1;32m   1553\u001b[0m             \u001b[0;34m\"The truth value of a {0} is ambiguous. \"\u001b[0m\u001b[0;34m\u001b[0m\u001b[0;34m\u001b[0m\u001b[0m\n\u001b[1;32m   1554\u001b[0m             \"Use a.empty, a.bool(), a.item(), a.any() or a.all().\".format(\n\u001b[0;32m-> 1555\u001b[0;31m                 \u001b[0mself\u001b[0m\u001b[0;34m.\u001b[0m\u001b[0m__class__\u001b[0m\u001b[0;34m.\u001b[0m\u001b[0m__name__\u001b[0m\u001b[0;34m\u001b[0m\u001b[0;34m\u001b[0m\u001b[0m\n\u001b[0m\u001b[1;32m   1556\u001b[0m             )\n\u001b[1;32m   1557\u001b[0m         )\n",
      "\u001b[0;31mValueError\u001b[0m: The truth value of a GeoDataFrame is ambiguous. Use a.empty, a.bool(), a.item(), a.any() or a.all()."
     ]
    }
   ],
   "source": [
    "rn['belong_to']=rn['geometry'].progress_apply(check_in,args=(bounds))"
   ]
  },
  {
   "cell_type": "code",
   "execution_count": 96,
   "metadata": {},
   "outputs": [
    {
     "data": {
      "text/plain": [
       "1000"
      ]
     },
     "execution_count": 96,
     "metadata": {},
     "output_type": "execute_result"
    }
   ],
   "source": [
    "len(rn[0:1000])"
   ]
  },
  {
   "cell_type": "code",
   "execution_count": 47,
   "metadata": {},
   "outputs": [
    {
     "data": {
      "image/svg+xml": [
       "<svg xmlns=\"http://www.w3.org/2000/svg\" xmlns:xlink=\"http://www.w3.org/1999/xlink\" width=\"100.0\" height=\"100.0\" viewBox=\"8.036832389831602 52.774174270629885 0.7013939666747433 0.4254330444337029\" preserveAspectRatio=\"xMinYMin meet\"><g transform=\"matrix(1,0,0,-1,0,105.97378158569347)\"><path fill-rule=\"evenodd\" fill=\"#66cc99\" stroke=\"#555555\" stroke-width=\"0.014027879333494865\" opacity=\"0.6\" d=\"M 8.65347957611084,53.11003112792969 L 8.66598987579357,53.106590270996094 L 8.672159194946346,53.10675048828125 L 8.666389465332088,53.099151611328125 L 8.666588783264217,53.09542846679699 L 8.673138618469295,53.088119506835994 L 8.691630363464412,53.08853149414068 L 8.69798946380621,53.084960937500114 L 8.70414924621582,53.08509063720709 L 8.710700035095215,53.077781677246094 L 8.711669921874943,53.05915069580084 L 8.705711364746207,53.05529022216797 L 8.712248802185059,53.047981262206974 L 8.700329780578556,53.04026031494146 L 8.693980216980094,53.04384994506847 L 8.694169044494629,53.04011917114258 L 8.68186187744152,53.0398521423341 L 8.68224906921381,53.03240203857422 L 8.676688194275016,53.0210914611817 L 8.670350074768066,53.02468109130871 L 8.65844821929943,53.01696014404297 L 8.659230232238826,53.00207138061535 L 8.641418457031364,52.99047851562506 L 8.647948265075684,52.98318099975597 L 8.642020225524846,52.979320526123104 L 8.65508937835699,52.96471023559582 L 8.654888153076286,52.9684295654298 L 8.660829544067383,52.9722900390625 L 8.66697025299078,52.972419738769645 L 8.679448127746639,52.96897125244152 L 8.691748619079704,52.96924209594732 L 8.685799598693848,52.96538162231451 L 8.686978340148869,52.9430389404298 L 8.693319320678711,52.93944931030279 L 8.694298744201774,52.92084121704113 L 8.688349723815975,52.91698074340826 L 8.676070213317928,52.91672897338867 L 8.66973876953125,52.92031097412115 L 8.651328086853141,52.919910430908146 L 8.64540004730236,52.916049957275504 L 8.645978927612418,52.90489196777355 L 8.64026069641119,52.8973121643067 L 8.64638900756836,52.8974494934082 L 8.646789550781364,52.890010833740234 L 8.640859603881779,52.886150360107365 L 8.641259193420524,52.878711700439396 L 8.635528564453239,52.8711395263673 L 8.642049789428711,52.86383056640631 L 8.630000114440975,52.85984039306646 L 8.636529922485465,52.8525390625 L 8.62428188323969,52.85227203369152 L 8.606119155883846,52.84815216064453 L 8.600199699401855,52.84429168701172 L 8.600000381469727,52.8480110168457 L 8.5940904617309,52.844161987304744 L 8.575959205627498,52.840030670166016 L 8.563929557800293,52.83602905273449 L 8.545820236206168,52.83189010620123 L 8.539718627929744,52.831748962402344 L 8.546021461486873,52.828182220458984 L 8.546419143676815,52.82075119018555 L 8.540321350097713,52.82059860229492 L 8.534418106079158,52.81674957275396 L 8.522429466247502,52.812751770019645 L 8.510639190673885,52.805030822753906 L 8.492569923400879,52.800891876220646 L 8.462139129638672,52.80015182495117 L 8.461930274963436,52.803859710693416 L 8.468018531799373,52.80400848388683 L 8.473708152771053,52.811580657958984 L 8.472899436950684,52.82643127441412 L 8.467019081115723,52.82255935668951 L 8.44270992279047,52.82194900512701 L 8.436229705810604,52.82921981811529 L 8.43035888671875,52.82535171508789 L 8.418229103088436,52.825038909912166 L 8.405899047851676,52.828430175781364 L 8.39982986450201,52.828269958496094 L 8.393568992614803,52.83182144165039 L 8.399628639221305,52.83197021484381 L 8.399429321289006,52.83568954467779 L 8.41116046905529,52.84342193603521 L 8.410760879516602,52.85084152221691 L 8.386520385742188,52.85018920898432 L 8.386309623718375,52.85390090942394 L 8.380059242248535,52.857440948486385 L 8.368149757385368,52.853401184082145 L 8.36210823059082,52.853229522705135 L 8.355858802795467,52.85676956176752 L 8.349419593811092,52.86402130126959 L 8.349209785461426,52.86771011352539 L 8.336528778076286,52.87847900390625 L 8.336139678955135,52.885890960693416 L 8.324459075927791,52.87813186645502 L 8.270178794860897,52.87652206420904 L 8.264360427856502,52.87263870239258 L 8.258330345153809,52.872451782226676 L 8.246100425720215,52.8757896423341 L 8.246300697326603,52.87210083007824 L 8.240459442138615,52.86822128295893 L 8.23444938659668,52.868030548095646 L 8.2096204757691,52.88206100463873 L 8.197028160095158,52.89276123046875 L 8.185030937194881,52.892372131347656 L 8.172458648681697,52.903041839599666 L 8.166468620300293,52.902839660644474 L 8.165339469909668,52.92498016357422 L 8.147370338439941,52.92436981201183 L 8.129231452942008,52.927429199218864 L 8.129038810729924,52.93111038208019 L 8.134650230407829,52.93869018554682 L 8.134090423583984,52.94974899291998 L 8.127739906311092,52.956901550293026 L 8.1273708343507,52.96427917480469 L 8.132970809936523,52.971870422363395 L 8.126810073852596,52.97533035278326 L 8.126249313354435,52.98638916015625 L 8.132208824157715,52.98662185668957 L 8.131460189819336,53.00135040283209 L 8.11282062530529,53.015411376953125 L 8.0940198898316,53.03311157226557 L 8.088068962097168,53.03287124633789 L 8.087880134582463,53.03654861450201 L 8.075240135192928,53.0507698059082 L 8.069310188293514,53.05052185058594 L 8.069117546081657,53.05419921875006 L 8.062998771667594,53.05762100219721 L 8.062809944152889,53.06130218505871 L 8.074469566345272,53.06547927856445 L 8.074290275573674,53.06914901733404 L 8.08556938171398,53.08068847656256 L 8.08517932891857,53.088039398193416 L 8.11425876617443,53.10034179687506 L 8.137839317321834,53.104999542236385 L 8.143790245056266,53.10523223876953 L 8.1855087280274,53.106899261474666 L 8.20895862579357,53.11521148681646 L 8.209169387817383,53.11151123046875 L 8.215148925781364,53.11174011230469 L 8.209809303283805,53.100429534912166 L 8.204050064086971,53.09651184082037 L 8.204259872436467,53.09281921386719 L 8.22858905792242,53.086318969726506 L 8.23478031158453,53.082839965820426 L 8.240558624267635,53.08675003051769 L 8.24654865264904,53.0869712829591 L 8.264319419860954,53.09130096435547 L 8.270108222961426,53.095218658447266 L 8.288118362426758,53.095851898193416 L 8.287249565124569,53.11067962646496 L 8.292819976806697,53.118289947509766 L 8.292380332946891,53.12569046020519 L 8.303529739379826,53.14093017578125 L 8.303299903869743,53.1446418762207 L 8.314900398254395,53.152469635009766 L 8.32652759552002,53.16030120849621 L 8.326289176940918,53.16400909423828 L 8.332328796386719,53.16421127319347 L 8.344640731811467,53.160900115966854 L 8.35628890991211,53.168739318847656 L 8.374679565429688,53.16561889648449 L 8.386360168457088,53.17343902587902 L 8.392438888549862,53.1736297607423 L 8.393329620361385,53.158779144287166 L 8.40027904510498,53.144119262695256 L 8.400718688964957,53.13669967651373 L 8.407668113708496,53.122020721435604 L 8.449600219726506,53.13444900512707 L 8.455479621887207,53.13832855224615 L 8.4674587249757,53.142421722412166 L 8.505388259887695,53.121150970458984 L 8.511288642883414,53.12503051757824 L 8.504960060119629,53.12858963012695 L 8.511078834533691,53.12874984741222 L 8.510869979858455,53.13246917724621 L 8.516970634460563,53.13264083862305 L 8.523308753967285,53.12908935546875 L 8.535769462585506,53.12570190429693 L 8.54801940917963,53.12602996826172 L 8.566828727722168,53.11907196044933 L 8.57316970825201,53.11550903320307 L 8.578889846801815,53.12311172485357 L 8.578689575195426,53.12683868408209 L 8.591170310974178,53.12342071533209 L 8.59751987457281,53.11983871459961 L 8.591388702392692,53.119709014892635 L 8.603870391845703,53.11627960205078 L 8.604069709777832,53.1125602722168 L 8.610420227050781,53.10898971557617 L 8.616358757018986,53.11286926269531 L 8.616559982299862,53.10913848876959 L 8.635419845581112,53.10214996337885 L 8.641370773315543,53.10602188110363 L 8.641169548034611,53.109741210937614 L 8.65347957611084,53.11003112792969 z\" /></g></svg>"
      ],
      "text/plain": [
       "<shapely.geometry.polygon.Polygon at 0x7fb1497a1490>"
      ]
     },
     "execution_count": 47,
     "metadata": {},
     "output_type": "execute_result"
    }
   ],
   "source": [
    "test.geometry[0]"
   ]
  },
  {
   "cell_type": "code",
   "execution_count": 68,
   "metadata": {},
   "outputs": [
    {
     "data": {
      "image/svg+xml": [
       "<svg xmlns=\"http://www.w3.org/2000/svg\" xmlns:xlink=\"http://www.w3.org/1999/xlink\" width=\"100.0\" height=\"100.0\" viewBox=\"7.8092781984 49.9378483584 0.04635040319999906 0.0304123032000021\" preserveAspectRatio=\"xMinYMin meet\"><g transform=\"matrix(1,0,0,-1,0,99.90610902)\"><g><path fill-rule=\"evenodd\" fill=\"#66cc99\" stroke=\"#555555\" stroke-width=\"0.0009270080639999811\" opacity=\"0.6\" d=\"M 7.81099488,49.93956504 L 7.81099488,49.96654398 L 7.85391192,49.96654398 L 7.85391192,49.93956504 L 7.81099488,49.93956504 z\" /></g></g></svg>"
      ],
      "text/plain": [
       "<shapely.geometry.multipolygon.MultiPolygon at 0x7fb14976d1d0>"
      ]
     },
     "execution_count": 68,
     "metadata": {},
     "output_type": "execute_result"
    }
   ],
   "source": [
    "x=pd.DataFrame(rn.iloc[0]).T.geometry[0]\n",
    "x"
   ]
  },
  {
   "cell_type": "code",
   "execution_count": 78,
   "metadata": {},
   "outputs": [
    {
     "ename": "AttributeError",
     "evalue": "'Series' object has no attribute '_geom'",
     "output_type": "error",
     "traceback": [
      "\u001b[0;31m---------------------------------------------------------------------------\u001b[0m",
      "\u001b[0;31mAttributeError\u001b[0m                            Traceback (most recent call last)",
      "\u001b[0;32m<ipython-input-78-bcb848a138a2>\u001b[0m in \u001b[0;36m<module>\u001b[0;34m\u001b[0m\n\u001b[0;32m----> 1\u001b[0;31m \u001b[0mtest\u001b[0m\u001b[0;34m.\u001b[0m\u001b[0mgeometry\u001b[0m\u001b[0;34m[\u001b[0m\u001b[0;36m0\u001b[0m\u001b[0;34m]\u001b[0m\u001b[0;34m.\u001b[0m\u001b[0mintersection\u001b[0m\u001b[0;34m(\u001b[0m\u001b[0mpd\u001b[0m\u001b[0;34m.\u001b[0m\u001b[0mDataFrame\u001b[0m\u001b[0;34m(\u001b[0m\u001b[0mrn\u001b[0m\u001b[0;34m.\u001b[0m\u001b[0miloc\u001b[0m\u001b[0;34m[\u001b[0m\u001b[0;36m0\u001b[0m\u001b[0;34m]\u001b[0m\u001b[0;34m)\u001b[0m\u001b[0;34m.\u001b[0m\u001b[0mT\u001b[0m\u001b[0;34m.\u001b[0m\u001b[0mgeometry\u001b[0m\u001b[0;34m)\u001b[0m\u001b[0;34m.\u001b[0m\u001b[0marea\u001b[0m\u001b[0;34m\u001b[0m\u001b[0;34m\u001b[0m\u001b[0m\n\u001b[0m",
      "\u001b[0;32m/opt/conda/lib/python3.7/site-packages/shapely/geometry/base.py\u001b[0m in \u001b[0;36mintersection\u001b[0;34m(self, other)\u001b[0m\n\u001b[1;32m    618\u001b[0m     \u001b[0;32mdef\u001b[0m \u001b[0mintersection\u001b[0m\u001b[0;34m(\u001b[0m\u001b[0mself\u001b[0m\u001b[0;34m,\u001b[0m \u001b[0mother\u001b[0m\u001b[0;34m)\u001b[0m\u001b[0;34m:\u001b[0m\u001b[0;34m\u001b[0m\u001b[0;34m\u001b[0m\u001b[0m\n\u001b[1;32m    619\u001b[0m         \u001b[0;34m\"\"\"Returns the intersection of the geometries\"\"\"\u001b[0m\u001b[0;34m\u001b[0m\u001b[0;34m\u001b[0m\u001b[0m\n\u001b[0;32m--> 620\u001b[0;31m         \u001b[0;32mreturn\u001b[0m \u001b[0mgeom_factory\u001b[0m\u001b[0;34m(\u001b[0m\u001b[0mself\u001b[0m\u001b[0;34m.\u001b[0m\u001b[0mimpl\u001b[0m\u001b[0;34m[\u001b[0m\u001b[0;34m'intersection'\u001b[0m\u001b[0;34m]\u001b[0m\u001b[0;34m(\u001b[0m\u001b[0mself\u001b[0m\u001b[0;34m,\u001b[0m \u001b[0mother\u001b[0m\u001b[0;34m)\u001b[0m\u001b[0;34m)\u001b[0m\u001b[0;34m\u001b[0m\u001b[0;34m\u001b[0m\u001b[0m\n\u001b[0m\u001b[1;32m    621\u001b[0m \u001b[0;34m\u001b[0m\u001b[0m\n\u001b[1;32m    622\u001b[0m     \u001b[0;32mdef\u001b[0m \u001b[0msymmetric_difference\u001b[0m\u001b[0;34m(\u001b[0m\u001b[0mself\u001b[0m\u001b[0;34m,\u001b[0m \u001b[0mother\u001b[0m\u001b[0;34m)\u001b[0m\u001b[0;34m:\u001b[0m\u001b[0;34m\u001b[0m\u001b[0;34m\u001b[0m\u001b[0m\n",
      "\u001b[0;32m/opt/conda/lib/python3.7/site-packages/shapely/topology.py\u001b[0m in \u001b[0;36m__call__\u001b[0;34m(self, this, other, *args)\u001b[0m\n\u001b[1;32m     63\u001b[0m     \u001b[0;32mdef\u001b[0m \u001b[0m__call__\u001b[0m\u001b[0;34m(\u001b[0m\u001b[0mself\u001b[0m\u001b[0;34m,\u001b[0m \u001b[0mthis\u001b[0m\u001b[0;34m,\u001b[0m \u001b[0mother\u001b[0m\u001b[0;34m,\u001b[0m \u001b[0;34m*\u001b[0m\u001b[0margs\u001b[0m\u001b[0;34m)\u001b[0m\u001b[0;34m:\u001b[0m\u001b[0;34m\u001b[0m\u001b[0;34m\u001b[0m\u001b[0m\n\u001b[1;32m     64\u001b[0m         \u001b[0mself\u001b[0m\u001b[0;34m.\u001b[0m\u001b[0m_validate\u001b[0m\u001b[0;34m(\u001b[0m\u001b[0mthis\u001b[0m\u001b[0;34m)\u001b[0m\u001b[0;34m\u001b[0m\u001b[0;34m\u001b[0m\u001b[0m\n\u001b[0;32m---> 65\u001b[0;31m         \u001b[0mself\u001b[0m\u001b[0;34m.\u001b[0m\u001b[0m_validate\u001b[0m\u001b[0;34m(\u001b[0m\u001b[0mother\u001b[0m\u001b[0;34m,\u001b[0m \u001b[0mstop_prepared\u001b[0m\u001b[0;34m=\u001b[0m\u001b[0;32mTrue\u001b[0m\u001b[0;34m)\u001b[0m\u001b[0;34m\u001b[0m\u001b[0;34m\u001b[0m\u001b[0m\n\u001b[0m\u001b[1;32m     66\u001b[0m         \u001b[0mproduct\u001b[0m \u001b[0;34m=\u001b[0m \u001b[0mself\u001b[0m\u001b[0;34m.\u001b[0m\u001b[0mfn\u001b[0m\u001b[0;34m(\u001b[0m\u001b[0mthis\u001b[0m\u001b[0;34m.\u001b[0m\u001b[0m_geom\u001b[0m\u001b[0;34m,\u001b[0m \u001b[0mother\u001b[0m\u001b[0;34m.\u001b[0m\u001b[0m_geom\u001b[0m\u001b[0;34m,\u001b[0m \u001b[0;34m*\u001b[0m\u001b[0margs\u001b[0m\u001b[0;34m)\u001b[0m\u001b[0;34m\u001b[0m\u001b[0;34m\u001b[0m\u001b[0m\n\u001b[1;32m     67\u001b[0m         \u001b[0;32mif\u001b[0m \u001b[0mproduct\u001b[0m \u001b[0;32mis\u001b[0m \u001b[0;32mNone\u001b[0m\u001b[0;34m:\u001b[0m\u001b[0;34m\u001b[0m\u001b[0;34m\u001b[0m\u001b[0m\n",
      "\u001b[0;32m/opt/conda/lib/python3.7/site-packages/shapely/topology.py\u001b[0m in \u001b[0;36m_validate\u001b[0;34m(self, ob, stop_prepared)\u001b[0m\n\u001b[1;32m     15\u001b[0m \u001b[0;34m\u001b[0m\u001b[0m\n\u001b[1;32m     16\u001b[0m     \u001b[0;32mdef\u001b[0m \u001b[0m_validate\u001b[0m\u001b[0;34m(\u001b[0m\u001b[0mself\u001b[0m\u001b[0;34m,\u001b[0m \u001b[0mob\u001b[0m\u001b[0;34m,\u001b[0m \u001b[0mstop_prepared\u001b[0m\u001b[0;34m=\u001b[0m\u001b[0;32mFalse\u001b[0m\u001b[0;34m)\u001b[0m\u001b[0;34m:\u001b[0m\u001b[0;34m\u001b[0m\u001b[0;34m\u001b[0m\u001b[0m\n\u001b[0;32m---> 17\u001b[0;31m         \u001b[0;32mif\u001b[0m \u001b[0mob\u001b[0m \u001b[0;32mis\u001b[0m \u001b[0;32mNone\u001b[0m \u001b[0;32mor\u001b[0m \u001b[0mob\u001b[0m\u001b[0;34m.\u001b[0m\u001b[0m_geom\u001b[0m \u001b[0;32mis\u001b[0m \u001b[0;32mNone\u001b[0m\u001b[0;34m:\u001b[0m\u001b[0;34m\u001b[0m\u001b[0;34m\u001b[0m\u001b[0m\n\u001b[0m\u001b[1;32m     18\u001b[0m             \u001b[0;32mraise\u001b[0m \u001b[0mValueError\u001b[0m\u001b[0;34m(\u001b[0m\u001b[0;34m\"Null geometry supports no operations\"\u001b[0m\u001b[0;34m)\u001b[0m\u001b[0;34m\u001b[0m\u001b[0;34m\u001b[0m\u001b[0m\n\u001b[1;32m     19\u001b[0m         \u001b[0;32mif\u001b[0m \u001b[0mstop_prepared\u001b[0m \u001b[0;32mand\u001b[0m \u001b[0;32mnot\u001b[0m \u001b[0mhasattr\u001b[0m\u001b[0;34m(\u001b[0m\u001b[0mob\u001b[0m\u001b[0;34m,\u001b[0m \u001b[0;34m'type'\u001b[0m\u001b[0;34m)\u001b[0m\u001b[0;34m:\u001b[0m\u001b[0;34m\u001b[0m\u001b[0;34m\u001b[0m\u001b[0m\n",
      "\u001b[0;32m/opt/conda/lib/python3.7/site-packages/pandas/core/generic.py\u001b[0m in \u001b[0;36m__getattr__\u001b[0;34m(self, name)\u001b[0m\n\u001b[1;32m   5177\u001b[0m             \u001b[0;32mif\u001b[0m \u001b[0mself\u001b[0m\u001b[0;34m.\u001b[0m\u001b[0m_info_axis\u001b[0m\u001b[0;34m.\u001b[0m\u001b[0m_can_hold_identifiers_and_holds_name\u001b[0m\u001b[0;34m(\u001b[0m\u001b[0mname\u001b[0m\u001b[0;34m)\u001b[0m\u001b[0;34m:\u001b[0m\u001b[0;34m\u001b[0m\u001b[0;34m\u001b[0m\u001b[0m\n\u001b[1;32m   5178\u001b[0m                 \u001b[0;32mreturn\u001b[0m \u001b[0mself\u001b[0m\u001b[0;34m[\u001b[0m\u001b[0mname\u001b[0m\u001b[0;34m]\u001b[0m\u001b[0;34m\u001b[0m\u001b[0;34m\u001b[0m\u001b[0m\n\u001b[0;32m-> 5179\u001b[0;31m             \u001b[0;32mreturn\u001b[0m \u001b[0mobject\u001b[0m\u001b[0;34m.\u001b[0m\u001b[0m__getattribute__\u001b[0m\u001b[0;34m(\u001b[0m\u001b[0mself\u001b[0m\u001b[0;34m,\u001b[0m \u001b[0mname\u001b[0m\u001b[0;34m)\u001b[0m\u001b[0;34m\u001b[0m\u001b[0;34m\u001b[0m\u001b[0m\n\u001b[0m\u001b[1;32m   5180\u001b[0m \u001b[0;34m\u001b[0m\u001b[0m\n\u001b[1;32m   5181\u001b[0m     \u001b[0;32mdef\u001b[0m \u001b[0m__setattr__\u001b[0m\u001b[0;34m(\u001b[0m\u001b[0mself\u001b[0m\u001b[0;34m,\u001b[0m \u001b[0mname\u001b[0m\u001b[0;34m,\u001b[0m \u001b[0mvalue\u001b[0m\u001b[0;34m)\u001b[0m\u001b[0;34m:\u001b[0m\u001b[0;34m\u001b[0m\u001b[0;34m\u001b[0m\u001b[0m\n",
      "\u001b[0;31mAttributeError\u001b[0m: 'Series' object has no attribute '_geom'"
     ]
    }
   ],
   "source": [
    "test.geometry[0].intersection(pd.DataFrame(rn.iloc[0]).T.geometry).area"
   ]
  },
  {
   "cell_type": "code",
   "execution_count": 76,
   "metadata": {},
   "outputs": [
    {
     "ename": "AttributeError",
     "evalue": "'array.array' object has no attribute 'intersects'",
     "output_type": "error",
     "traceback": [
      "\u001b[0;31m---------------------------------------------------------------------------\u001b[0m",
      "\u001b[0;31mAttributeError\u001b[0m                            Traceback (most recent call last)",
      "\u001b[0;32m<ipython-input-76-d9b73a77b4a6>\u001b[0m in \u001b[0;36m<module>\u001b[0;34m\u001b[0m\n\u001b[0;32m----> 1\u001b[0;31m \u001b[0mprint\u001b[0m\u001b[0;34m(\u001b[0m\u001b[0mx\u001b[0m\u001b[0;34m.\u001b[0m\u001b[0mintersects\u001b[0m\u001b[0;34m(\u001b[0m\u001b[0mtest\u001b[0m\u001b[0;34m.\u001b[0m\u001b[0mgeometry\u001b[0m\u001b[0;34m)\u001b[0m\u001b[0;34m)\u001b[0m\u001b[0;34m\u001b[0m\u001b[0;34m\u001b[0m\u001b[0m\n\u001b[0m",
      "\u001b[0;31mAttributeError\u001b[0m: 'array.array' object has no attribute 'intersects'"
     ]
    }
   ],
   "source": [
    "print(x.intersects(test.geometry))"
   ]
  }
 ],
 "metadata": {
  "kernelspec": {
   "display_name": "Python 3",
   "language": "python",
   "name": "python3"
  },
  "language_info": {
   "codemirror_mode": {
    "name": "ipython",
    "version": 3
   },
   "file_extension": ".py",
   "mimetype": "text/x-python",
   "name": "python",
   "nbconvert_exporter": "python",
   "pygments_lexer": "ipython3",
   "version": "3.7.6"
  }
 },
 "nbformat": 4,
 "nbformat_minor": 2
}
